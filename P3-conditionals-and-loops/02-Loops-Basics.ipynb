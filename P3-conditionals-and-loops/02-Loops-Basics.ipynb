{
 "cells": [
  {
   "cell_type": "markdown",
   "metadata": {},
   "source": [
    "#### Loops"
   ]
  },
  {
   "cell_type": "markdown",
   "metadata": {},
   "source": [
    "#### Loops allow you to repeat a block of code multiple times."
   ]
  },
  {
   "cell_type": "markdown",
   "metadata": {},
   "source": [
    "#### 1.1 for loop"
   ]
  },
  {
   "cell_type": "code",
   "execution_count": 2,
   "metadata": {},
   "outputs": [
    {
     "name": "stdout",
     "output_type": "stream",
     "text": [
      "apple\n",
      "banana\n",
      "cherry\n"
     ]
    }
   ],
   "source": [
    "fruits = [\"apple\", \"banana\", \"cherry\"]\n",
    "for fruit in fruits:\n",
    "    print(fruit)\n",
    "    \n",
    "\n",
    "     "
   ]
  },
  {
   "cell_type": "markdown",
   "metadata": {},
   "source": [
    "#### for i in range(stop-index)"
   ]
  },
  {
   "cell_type": "code",
   "execution_count": 5,
   "metadata": {},
   "outputs": [
    {
     "name": "stdout",
     "output_type": "stream",
     "text": [
      "Zero-indexing automatic start from 0\n",
      "index = 0\n",
      "index = 1\n",
      "index = 2\n",
      "index = 3\n",
      "index = 4\n"
     ]
    }
   ],
   "source": [
    "print(\"Zero-indexing automatic start from 0\")\n",
    "for i in range(5): # Zero-indexing, Iterates from 0 to 4, stop at 5 and exclude 5\n",
    "    print(f\"index = {i}\")"
   ]
  },
  {
   "cell_type": "markdown",
   "metadata": {},
   "source": [
    "#### for i in range(start-index, stop-index)"
   ]
  },
  {
   "cell_type": "code",
   "execution_count": 6,
   "metadata": {},
   "outputs": [
    {
     "name": "stdout",
     "output_type": "stream",
     "text": [
      "Zero-indexing custom start from 0\n",
      "index = 0\n",
      "index = 1\n",
      "index = 2\n",
      "index = 3\n",
      "index = 4\n"
     ]
    }
   ],
   "source": [
    "print(\"Zero-indexing custom start from 0\")\n",
    "for i in range(0, 5):\n",
    "    print(f\"index = {i}\")"
   ]
  },
  {
   "cell_type": "code",
   "execution_count": 7,
   "metadata": {},
   "outputs": [
    {
     "name": "stdout",
     "output_type": "stream",
     "text": [
      "index = 1\n",
      "index = 2\n",
      "index = 3\n",
      "index = 4\n",
      "index = 5\n"
     ]
    }
   ],
   "source": [
    "for i in range(1, 6): # Custom-indexing, Iterates from 1 to 5\n",
    "    print(f\"index = {i}\")"
   ]
  },
  {
   "cell_type": "code",
   "execution_count": null,
   "metadata": {},
   "outputs": [],
   "source": []
  }
 ],
 "metadata": {
  "kernelspec": {
   "display_name": "Python 3",
   "language": "python",
   "name": "python3"
  },
  "language_info": {
   "codemirror_mode": {
    "name": "ipython",
    "version": 3
   },
   "file_extension": ".py",
   "mimetype": "text/x-python",
   "name": "python",
   "nbconvert_exporter": "python",
   "pygments_lexer": "ipython3",
   "version": "3.12.8"
  }
 },
 "nbformat": 4,
 "nbformat_minor": 2
}
