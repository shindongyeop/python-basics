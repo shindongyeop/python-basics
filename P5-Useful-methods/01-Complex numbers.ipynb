{
 "cells": [
  {
   "cell_type": "markdown",
   "metadata": {},
   "source": [
    "#### 연산, 복소수 (complex number) "
   ]
  },
  {
   "cell_type": "code",
   "execution_count": 1,
   "metadata": {},
   "outputs": [
    {
     "name": "stdout",
     "output_type": "stream",
     "text": [
      "3.0\n",
      "4.0\n"
     ]
    }
   ],
   "source": [
    "d = 3 + 4j # 복소수 (3 + 4j)\n",
    "\n",
    "print(d.real) # 3.0 (실수부)\n",
    "print(d.imag) # 4.0 (허수부부)"
   ]
  },
  {
   "cell_type": "code",
   "execution_count": 4,
   "metadata": {},
   "outputs": [
    {
     "name": "stdout",
     "output_type": "stream",
     "text": [
      "3.3333333333333335\n",
      "5.0\n",
      "3\n",
      "-4\n"
     ]
    }
   ],
   "source": [
    "# / (나누기): 실수변환\n",
    "# // 나누어 정수의 몫만 출력력\n",
    "print(10 / 3) # 3.333333333333\n",
    "print(10 / 2) # 5.0\n",
    "print(10 // 3) # 3 (몫만 반환)\n",
    "print(-10 // 3) # -4 (음수 방향으로 내림림)"
   ]
  }
 ],
 "metadata": {
  "kernelspec": {
   "display_name": "Python 3",
   "language": "python",
   "name": "python3"
  },
  "language_info": {
   "codemirror_mode": {
    "name": "ipython",
    "version": 3
   },
   "file_extension": ".py",
   "mimetype": "text/x-python",
   "name": "python",
   "nbconvert_exporter": "python",
   "pygments_lexer": "ipython3",
   "version": "3.12.8"
  }
 },
 "nbformat": 4,
 "nbformat_minor": 2
}
