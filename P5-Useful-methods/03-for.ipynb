{
 "cells": [
  {
   "cell_type": "markdown",
   "metadata": {},
   "source": [
    "#### for 구문 tips"
   ]
  },
  {
   "cell_type": "code",
   "execution_count": 1,
   "metadata": {},
   "outputs": [
    {
     "name": "stdout",
     "output_type": "stream",
     "text": [
      "1 2 3 4 5 0 1 2 3 4 "
     ]
    }
   ],
   "source": [
    "# range(1, n+1)은 1부터 n까지 반복 (n+1은 포함되지 않음)\n",
    "n = 5\n",
    "for i in range(1, n+1):\n",
    "    print(i, end=\" \")\n",
    "    \n",
    "# range(n)은 0부터 n-1까지 반복\n",
    "n = 5\n",
    "for i in range(n):\n",
    "    print(i, end=\" \")\n",
    "    "
   ]
  }
 ],
 "metadata": {
  "kernelspec": {
   "display_name": "Python 3",
   "language": "python",
   "name": "python3"
  },
  "language_info": {
   "codemirror_mode": {
    "name": "ipython",
    "version": 3
   },
   "file_extension": ".py",
   "mimetype": "text/x-python",
   "name": "python",
   "nbconvert_exporter": "python",
   "pygments_lexer": "ipython3",
   "version": "3.12.8"
  }
 },
 "nbformat": 4,
 "nbformat_minor": 2
}
