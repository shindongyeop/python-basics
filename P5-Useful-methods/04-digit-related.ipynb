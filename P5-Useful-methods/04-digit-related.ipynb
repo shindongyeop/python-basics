{
 "cells": [
  {
   "cell_type": "markdown",
   "metadata": {},
   "source": [
    "#### 수에서 자릿수의 합 구하기기"
   ]
  },
  {
   "cell_type": "code",
   "execution_count": 4,
   "metadata": {},
   "outputs": [
    {
     "data": {
      "text/plain": [
       "True"
      ]
     },
     "execution_count": 4,
     "metadata": {},
     "output_type": "execute_result"
    }
   ],
   "source": [
    "# Hashard No는 양의 정수 x가 x의 자릿수의 합으로 나누어지는 수임. \n",
    "# 예를 들어 18의 자릿수 합은 1+8 = 9이고, 18은 9로 나누어 떨어지므로 하샤드수임. \n",
    "# x가 하샤드수인지 확인하기 위한 command\n",
    "\n",
    "def solution(x):\n",
    "    return x % sum(int(i) for i in str(x)) == 0\n",
    "\n",
    "solution(18)"
   ]
  }
 ],
 "metadata": {
  "kernelspec": {
   "display_name": "Python 3",
   "language": "python",
   "name": "python3"
  },
  "language_info": {
   "codemirror_mode": {
    "name": "ipython",
    "version": 3
   },
   "file_extension": ".py",
   "mimetype": "text/x-python",
   "name": "python",
   "nbconvert_exporter": "python",
   "pygments_lexer": "ipython3",
   "version": "3.12.8"
  }
 },
 "nbformat": 4,
 "nbformat_minor": 2
}
