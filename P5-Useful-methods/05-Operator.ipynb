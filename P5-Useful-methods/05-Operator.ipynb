{
 "cells": [
  {
   "cell_type": "markdown",
   "metadata": {},
   "source": [
    "#### =(한개)는 대입(할당)연산자 (Assignment Operator)\n",
    "###### =는 변수에 값을 할당할 때 사용 \n",
    "###### e.g. x = 5 는 x라는 변수에 5를 저장한다는 뜻\n",
    "###### if문에서는 조건을 검사해야 하므로 할당연산자를 사용할 수 없음. "
   ]
  },
  {
   "cell_type": "markdown",
   "metadata": {},
   "source": [
    "##### ==(두개)는 비교 연산자 (Equality Operator)\n",
    "######  ==는 두 값이 같은지를 비교하는 연산자\n",
    "######  if seoul == \"Kim\": 은 \"Kim\"과 seoul이이 같은지 확인하는 조건문"
   ]
  },
  {
   "cell_type": "code",
   "execution_count": null,
   "metadata": {},
   "outputs": [],
   "source": []
  },
  {
   "cell_type": "markdown",
   "metadata": {},
   "source": []
  }
 ],
 "metadata": {
  "kernelspec": {
   "display_name": "Python 3",
   "language": "python",
   "name": "python3"
  },
  "language_info": {
   "codemirror_mode": {
    "name": "ipython",
    "version": 3
   },
   "file_extension": ".py",
   "mimetype": "text/x-python",
   "name": "python",
   "nbconvert_exporter": "python",
   "pygments_lexer": "ipython3",
   "version": "3.12.8"
  }
 },
 "nbformat": 4,
 "nbformat_minor": 2
}
