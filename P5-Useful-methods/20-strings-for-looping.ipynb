{
 "cells": [
  {
   "cell_type": "markdown",
   "id": "a1180819",
   "metadata": {},
   "source": [
    "#### string으로 되어 있는 문자열을 문자하나씩 보면서 for loop를 돌리는 경우"
   ]
  },
  {
   "cell_type": "code",
   "execution_count": null,
   "id": "abbb9981",
   "metadata": {},
   "outputs": [],
   "source": [
    "for char in s:  # Iterate through each character in the input string\n",
    " for i in arr:        "
   ]
  },
  {
   "cell_type": "markdown",
   "id": "4b154d66",
   "metadata": {},
   "source": [
    "#### 자연수로 주어질 때, 그 수의 각 자릿수의 합을 구할때 자연수를 string으로 변환하여 for loop을 돌린후 int로 정수로 재변환할 수 있다. "
   ]
  },
  {
   "cell_type": "code",
   "execution_count": null,
   "id": "10d32240",
   "metadata": {},
   "outputs": [],
   "source": [
    " for i in str(n):\n",
    "        answer += int(i)"
   ]
  },
  {
   "cell_type": "markdown",
   "id": "3fba7330",
   "metadata": {},
   "source": [
    "#### .isalpha와 .isupper method사용 및 ASCII code (number)를 호출하는 ord( ) function"
   ]
  },
  {
   "cell_type": "code",
   "execution_count": null,
   "id": "961f50fe",
   "metadata": {},
   "outputs": [],
   "source": [
    "        if char.isalpha():  # Check if the character is a letter (not a space)\n",
    "            ascii_offset = ord('A') if char.isupper() else ord('a')"
   ]
  },
  {
   "cell_type": "markdown",
   "id": "c5f2ea0a",
   "metadata": {},
   "source": [
    "#### s가 문자열인데 구성이 숫자로만 되어 있는지를 알고자 할때 사용하는 코드"
   ]
  },
  {
   "cell_type": "code",
   "execution_count": null,
   "id": "ea585ed5",
   "metadata": {},
   "outputs": [],
   "source": [
    " for char in s:\n",
    "        if not ('0' <= char <= '9'):"
   ]
  }
 ],
 "metadata": {
  "kernelspec": {
   "display_name": "Python 3",
   "language": "python",
   "name": "python3"
  },
  "language_info": {
   "codemirror_mode": {
    "name": "ipython",
    "version": 3
   },
   "file_extension": ".py",
   "mimetype": "text/x-python",
   "name": "python",
   "nbconvert_exporter": "python",
   "pygments_lexer": "ipython3",
   "version": "3.12.8"
  }
 },
 "nbformat": 4,
 "nbformat_minor": 5
}
