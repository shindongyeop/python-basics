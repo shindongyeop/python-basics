{
 "cells": [
  {
   "cell_type": "markdown",
   "id": "2dba8dc9",
   "metadata": {},
   "source": [
    "#### append usage\n",
    "## adds a single element to the end of a list. \n",
    "## The entire object you give is added as-is, even if it's a list"
   ]
  },
  {
   "cell_type": "code",
   "execution_count": null,
   "id": "6add649a",
   "metadata": {},
   "outputs": [],
   "source": [
    "lst = [1, 2]\n",
    "lst.append([3, 4])\n",
    "print(lst)  # Output: [1, 2, [3, 4]]\n"
   ]
  },
  {
   "cell_type": "markdown",
   "id": "46b9ee44",
   "metadata": {},
   "source": [
    "#### append usage II\n",
    "## add as a modified character (upper case or lower case)"
   ]
  },
  {
   "cell_type": "code",
   "execution_count": null,
   "id": "fef59e36",
   "metadata": {},
   "outputs": [],
   "source": [
    "def solution(s):\n",
    "    answer = []\n",
    "    words = s.split(\" \") # Split the string into words (preserving spaces)\n",
    "    print(f'words = {words}')\n",
    "    for word in words:\n",
    "        formatted_word = []\n",
    "        for idx, char in enumerate(word):\n",
    "            print(f'idx = {idx}, char={char}')\n",
    "            if idx % 2 == 0:\n",
    "                formatted_word.append(char.upper())\n",
    "            else:\n",
    "                formatted_word.append(char.lower())\n",
    "        answer.append(\"\".join(formatted_word))\n",
    "        # Join the formatted word and add to answer\n",
    "        \n",
    "    return \" \".join(answer)"
   ]
  }
 ],
 "metadata": {
  "language_info": {
   "name": "python"
  }
 },
 "nbformat": 4,
 "nbformat_minor": 5
}
